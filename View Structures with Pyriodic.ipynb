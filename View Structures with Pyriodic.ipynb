{
 "cells": [
  {
   "cell_type": "markdown",
   "metadata": {},
   "source": [
    "# Introduction\n",
    "\n",
    "This notebook demonstrates a simple analysis and visualization workflow. `pyriodic` is used to generate slightly noisy structures, which are then visualized and analyzed using other components of `flowws-analysis` and `flowws-freud`."
   ]
  },
  {
   "cell_type": "markdown",
   "metadata": {},
   "source": [
    "# Visualization\n",
    "\n",
    "We show three different ways to visualize the system. Select one depending on which mode best suits your use case.\n",
    "\n",
    "## Directly within notebook\n",
    "\n",
    "This mode is convenient for quick analysis, but depends on having vispy's notebook integration components [properly installed](http://vispy.org/installation.html)."
   ]
  },
  {
   "cell_type": "code",
   "execution_count": null,
   "metadata": {
    "scrolled": false
   },
   "outputs": [],
   "source": [
    "import flowws\n",
    "from flowws_analysis import *\n",
    "from flowws_freud import *\n",
    "\n",
    "flowws.Workflow([\n",
    "    Pyriodic(structure='tP30-CrFe', size=512, noise=1e-2),\n",
    "    LocalDensity(r_max=2, diameter=1),\n",
    "    Steinhardt(num_neighbors=12),\n",
    "    Colormap(),\n",
    "    RDF(r_max=3),\n",
    "    Plato(outline=.05),\n",
    "    ViewNotebook(),\n",
    "], flowws.DirectoryStorage()).run();"
   ]
  },
  {
   "cell_type": "markdown",
   "metadata": {},
   "source": [
    "## Controls in notebook, plato visuals in popup windows\n",
    "\n",
    "This mode is less reliant on details of your vispy installation. Jupyter is used to launch a local qt5 event loop, then visuals are made to pop up in their own windows while controls stay in the jupyter notebook. This depends on having the jupyter server running on your local machine in order to control windows."
   ]
  },
  {
   "cell_type": "code",
   "execution_count": null,
   "metadata": {},
   "outputs": [],
   "source": [
    "import flowws\n",
    "from flowws_analysis import *\n",
    "from flowws_freud import *\n",
    "\n",
    "%gui qt5\n",
    "\n",
    "flowws.Workflow([\n",
    "    Pyriodic(structure='tP30-CrFe', size=512, noise=1e-2),\n",
    "    LocalDensity(r_max=2, diameter=1),\n",
    "    Steinhardt(num_neighbors=12),\n",
    "    Colormap(),\n",
    "    RDF(r_max=3),\n",
    "    Plato(outline=.05),\n",
    "    ViewNotebook(vispy_backend='pyside2'),\n",
    "], flowws.DirectoryStorage()).run();"
   ]
  },
  {
   "cell_type": "markdown",
   "metadata": {},
   "source": [
    "## Standalone GUI window\n",
    "\n",
    "This mode launches its own window showing all controls and analysis using the `ViewQt` module available in `flowws-analysis`. Of course, this command can also be run in the command line without a notebook."
   ]
  },
  {
   "cell_type": "code",
   "execution_count": null,
   "metadata": {},
   "outputs": [],
   "source": [
    "%%script sh\n",
    "\n",
    "python -m flowws.run \\\n",
    "    Pyriodic --structure tP30-CrFe --size 512 --noise 1e-2 \\\n",
    "    LocalDensity --r-max 2 --diameter 1 \\\n",
    "    Steinhardt --num-neighbors 12 \\\n",
    "    Colormap \\\n",
    "    RDF --r-max 3 \\\n",
    "    Plato --outline 0.05 \\\n",
    "    ViewQt"
   ]
  },
  {
   "cell_type": "code",
   "execution_count": null,
   "metadata": {},
   "outputs": [],
   "source": []
  }
 ],
 "metadata": {
  "kernelspec": {
   "display_name": "Python 3",
   "language": "python",
   "name": "python3"
  },
  "language_info": {
   "codemirror_mode": {
    "name": "ipython",
    "version": 3
   },
   "file_extension": ".py",
   "mimetype": "text/x-python",
   "name": "python",
   "nbconvert_exporter": "python",
   "pygments_lexer": "ipython3",
   "version": "3.8.3"
  }
 },
 "nbformat": 4,
 "nbformat_minor": 2
}

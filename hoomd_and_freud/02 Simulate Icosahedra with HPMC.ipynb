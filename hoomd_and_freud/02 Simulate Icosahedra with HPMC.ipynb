{
 "cells": [
  {
   "cell_type": "markdown",
   "metadata": {},
   "source": [
    "# Introduction\n",
    "\n",
    "This notebook demonstrates two simple simulation and analysis workflows. First, `hoomd_flowws` is used to perform a simulation of hard icosahedra using HOOMD's Monte Carlo support. We then visualize the system using `flowws-analysis` and `flowws-freud`.\n",
    "\n",
    "## Simulation\n",
    "\n",
    "We perform multiple steps of compressing the system and adjusting the Monte Carlo move size to make it easier to get the system to our final desired packing fraction."
   ]
  },
  {
   "cell_type": "code",
   "execution_count": null,
   "metadata": {
    "scrolled": false
   },
   "outputs": [],
   "source": [
    "import flowws\n",
    "import numpy as np\n",
    "\n",
    "# this line can be used to clear the trajectory\n",
    "# and backup files that have been generated\n",
    "# !rm -f 3d_hpmc_icosahedra.*\n",
    "\n",
    "shape = dict(type='icosahedron')\n",
    "\n",
    "scope = dict(\n",
    "    dump_filename='3d_hpmc_icosahedra.sqlite',\n",
    ")\n",
    "\n",
    "from hoomd_flowws import *\n",
    "\n",
    "workflow = flowws.Workflow([\n",
    "    ShapeDefinition(shape_arguments=[shape]),\n",
    "    Init(number=256)] + [\n",
    "        RunHPMC(steps=1e4, integrator='nvt', tune=(.2, 10, 100), compress_to=packing_fraction)\n",
    "            for packing_fraction in np.linspace(.4, .54, 3)\n",
    "    ] + [\n",
    "    RunHPMC(steps=1e4, integrator='nvt', tune=(.2, 10, 100), compress_to=.6, dump_period=1e3),\n",
    "], flowws.DirectoryStorage(), scope)\n",
    "\n",
    "workflow.run();"
   ]
  },
  {
   "cell_type": "markdown",
   "metadata": {},
   "source": [
    "# Visualization\n",
    "\n",
    "We show three different ways to visualize the system. Select one depending on which mode best suits your use case.\n",
    "\n",
    "## Directly within notebook\n",
    "\n",
    "This mode is convenient for quick analysis, but depends on having vispy's notebook integration components [properly installed](http://vispy.org/installation.html)."
   ]
  },
  {
   "cell_type": "code",
   "execution_count": null,
   "metadata": {
    "scrolled": false
   },
   "outputs": [],
   "source": [
    "from flowws_analysis import *\n",
    "from flowws_freud import *\n",
    "\n",
    "flowws.Workflow([\n",
    "    GTAR(filename=scope['dump_filename']),\n",
    "    Steinhardt(num_neighbors=12),\n",
    "    Colormap(),\n",
    "    RDF(r_max=3),\n",
    "    SmoothBOD(),\n",
    "    Plato(outline=.02),\n",
    "    ViewNotebook(),\n",
    "], flowws.DirectoryStorage(), scope).run();"
   ]
  },
  {
   "cell_type": "markdown",
   "metadata": {},
   "source": [
    "## Controls in notebook, plato visuals in popup windows\n",
    "\n",
    "This mode is less reliant on details of your vispy installation. Jupyter is used to launch a local qt5 event loop, then visuals are made to pop up in their own windows while controls stay in the jupyter notebook. This depends on having the jupyter server running on your local machine in order to control windows."
   ]
  },
  {
   "cell_type": "code",
   "execution_count": null,
   "metadata": {},
   "outputs": [],
   "source": [
    "from flowws_analysis import *\n",
    "from flowws_freud import *\n",
    "\n",
    "%gui qt5\n",
    "\n",
    "flowws.Workflow([\n",
    "    GTAR(filename=scope['dump_filename']),\n",
    "    Steinhardt(num_neighbors=12),\n",
    "    Colormap(),\n",
    "    RDF(r_max=3),\n",
    "    SmoothBOD(),\n",
    "    Plato(outline=.02),\n",
    "    ViewNotebook(vispy_backend='pyside2'),\n",
    "], flowws.DirectoryStorage(), scope).run();"
   ]
  },
  {
   "cell_type": "markdown",
   "metadata": {},
   "source": [
    "## Standalone GUI window\n",
    "\n",
    "This mode launches its own window showing all controls and analysis using the `ViewQt` module available in `flowws-analysis`. Of course, this command can also be run in the command line without a notebook."
   ]
  },
  {
   "cell_type": "code",
   "execution_count": null,
   "metadata": {},
   "outputs": [],
   "source": [
    "%%script sh\n",
    "\n",
    "python -m flowws.run \\\n",
    "    GTAR --filename 3d_hpmc_icosahedra.sqlite \\\n",
    "    Steinhardt --num-neighbors 12 \\\n",
    "    Colormap \\\n",
    "    RDF --r-max 3 \\\n",
    "    SmoothBOD \\\n",
    "    Plato --outline 0.02 \\\n",
    "    ViewQt"
   ]
  },
  {
   "cell_type": "code",
   "execution_count": null,
   "metadata": {},
   "outputs": [],
   "source": []
  }
 ],
 "metadata": {
  "kernelspec": {
   "display_name": "Python 3",
   "language": "python",
   "name": "python3"
  },
  "language_info": {
   "codemirror_mode": {
    "name": "ipython",
    "version": 3
   },
   "file_extension": ".py",
   "mimetype": "text/x-python",
   "name": "python",
   "nbconvert_exporter": "python",
   "pygments_lexer": "ipython3",
   "version": "3.8.3"
  }
 },
 "nbformat": 4,
 "nbformat_minor": 2
}

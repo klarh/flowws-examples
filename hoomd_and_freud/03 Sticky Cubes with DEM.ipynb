{
 "cells": [
  {
   "cell_type": "markdown",
   "metadata": {},
   "source": [
    "# Introduction\n",
    "\n",
    "This notebook demonstrates two simple simulation and analysis workflows. First, `hoomd_flowws` is used to perform a simulation of rounded cubes with attractive interactions using DEM-MD. We then visualize the system using `flowws-analysis` and `flowws-freud`, coloring particles by their potential energy.\n",
    "\n",
    "## Plotting potential\n",
    "\n",
    "We'll use an isotropic Gaussian potential from the centers of particles to define the attraction. First we plot the potential to get an idea of how the Gaussian parameters translate into interaction energies at relevant distances given the geometry of our DEM particles.\n",
    "\n",
    "The cubes we use will have a side length of 1.5, then be rounded by a sphere of radius 0.5."
   ]
  },
  {
   "cell_type": "code",
   "execution_count": null,
   "metadata": {},
   "outputs": [],
   "source": [
    "import ipywidgets\n",
    "import matplotlib, matplotlib.pyplot as pp\n",
    "import numpy as np\n",
    "\n",
    "shape = dict(type='cube',\n",
    "             modifications=[\n",
    "                 dict(type='scale', factor=1.5),\n",
    "                 dict(type='round', radius=.5),\n",
    "             ])\n",
    "epsilon = -20.\n",
    "sigma = 2.\n",
    "rcut = 8.\n",
    "@ipywidgets.interact\n",
    "def plot(epsilon=epsilon, sigma=sigma):\n",
    "    # particle center-center distance when DEM cubes are face-to-face\n",
    "    cube_nearest = shape['modifications'][0]['factor'] + 2*shape['modifications'][1]['radius']\n",
    "    # particle center-center distance when DEM cubes are corner-to-corner\n",
    "    cube_farthest = np.sqrt(3)*shape['modifications'][0]['factor'] + 2*shape['modifications'][1]['radius']\n",
    "\n",
    "    rs = np.linspace(cube_nearest, rcut, 512)\n",
    "    Us = epsilon*np.exp(-.5*(rs/sigma)**2)\n",
    "    pp.plot(rs, Us)\n",
    "    pp.vlines(cube_farthest, np.min(Us), 0)\n",
    "    pp.xlabel('r'); pp.ylabel('U')"
   ]
  },
  {
   "cell_type": "markdown",
   "metadata": {},
   "source": [
    "## Simulation\n",
    "\n",
    "We let particles thermalize without the attractive interactions before turning on the Gaussian potentials. To color particles by their potential energy during visualization, we also need to save the potential for each particle at each frame we dump."
   ]
  },
  {
   "cell_type": "code",
   "execution_count": null,
   "metadata": {
    "scrolled": false
   },
   "outputs": [],
   "source": [
    "import flowws\n",
    "\n",
    "# this line can be used to clear the trajectory\n",
    "# and backup files that have been generated\n",
    "# !rm -f 3d_sticky_cubes.*\n",
    "\n",
    "scope = dict(\n",
    "    dump_filename='3d_sticky_cubes.sqlite',\n",
    ")\n",
    "\n",
    "from hoomd_flowws import *\n",
    "\n",
    "workflow = flowws.Workflow([\n",
    "    ShapeDefinition(shape_arguments=[shape]),\n",
    "    Init(number=256),\n",
    "    DEMInteraction(type='wca'),\n",
    "    Run(steps=1e4, integrator='langevin'),\n",
    "    Interaction(type='gauss', global_params=dict(r_cut=rcut).items(),\n",
    "                pair_params=[('A', 'A', 'epsilon', epsilon), ('A', 'A', 'sigma', sigma)]),\n",
    "    Run(steps=4e4, integrator='langevin', dump_period=4e3, expand_by=1.5, ramp_t_to=1e-2,\n",
    "        trajectory_quantities=['potential_energy']),\n",
    "], flowws.DirectoryStorage(), scope)\n",
    "\n",
    "workflow.run()"
   ]
  },
  {
   "cell_type": "markdown",
   "metadata": {},
   "source": [
    "# Visualization\n",
    "\n",
    "We show three different ways to visualize the system. Select one depending on which mode best suits your use case.\n",
    "\n",
    "## Directly within notebook\n",
    "\n",
    "This mode is convenient for quick analysis, but depends on having vispy's notebook integration components [properly installed](http://vispy.org/installation.html)."
   ]
  },
  {
   "cell_type": "code",
   "execution_count": null,
   "metadata": {
    "scrolled": false
   },
   "outputs": [],
   "source": [
    "from flowws_analysis import *\n",
    "from flowws_freud import *\n",
    "\n",
    "flowws.Workflow([\n",
    "    GTAR(filename=scope['dump_filename']),\n",
    "    RDF(r_max=9),\n",
    "    Colormap(argument='potential_energy'),\n",
    "    SmoothBOD(r_max=4),\n",
    "    Center(),\n",
    "    Plato(),\n",
    "    ViewNotebook(),\n",
    "], flowws.DirectoryStorage(), scope).run()"
   ]
  },
  {
   "cell_type": "markdown",
   "metadata": {},
   "source": [
    "## Controls in notebook, plato visuals in popup windows\n",
    "\n",
    "This mode is less reliant on details of your vispy installation. Jupyter is used to launch a local qt5 event loop, then visuals are made to pop up in their own windows while controls stay in the jupyter notebook. This depends on having the jupyter server running on your local machine in order to control windows."
   ]
  },
  {
   "cell_type": "code",
   "execution_count": null,
   "metadata": {},
   "outputs": [],
   "source": [
    "from flowws_analysis import *\n",
    "from flowws_freud import *\n",
    "\n",
    "%gui qt5\n",
    "\n",
    "flowws.Workflow([\n",
    "    GTAR(filename=scope['dump_filename']),\n",
    "    RDF(r_max=9),\n",
    "    Colormap(argument='potential_energy'),\n",
    "    SmoothBOD(r_max=4),\n",
    "    Center(),\n",
    "    Plato(),\n",
    "    ViewNotebook(vispy_backend='pyside2'),\n",
    "], flowws.DirectoryStorage(), scope).run()"
   ]
  },
  {
   "cell_type": "markdown",
   "metadata": {},
   "source": [
    "## Standalone GUI window\n",
    "\n",
    "This mode launches its own window showing all controls and analysis using the `ViewQt` module available in `flowws-analysis`. Of course, this command can also be run in the command line without a notebook."
   ]
  },
  {
   "cell_type": "code",
   "execution_count": null,
   "metadata": {},
   "outputs": [],
   "source": [
    "%%script sh\n",
    "\n",
    "python -m flowws.run \\\n",
    "    GTAR --filename 3d_sticky_cubes.sqlite \\\n",
    "    RDF --r-max 9 \\\n",
    "    Colormap --argument potential_energy \\\n",
    "    SmoothBOD --r-max 4 \\\n",
    "    Center \\\n",
    "    Plato \\\n",
    "    ViewQt"
   ]
  },
  {
   "cell_type": "code",
   "execution_count": null,
   "metadata": {},
   "outputs": [],
   "source": []
  }
 ],
 "metadata": {
  "kernelspec": {
   "display_name": "Python 3",
   "language": "python",
   "name": "python3"
  },
  "language_info": {
   "codemirror_mode": {
    "name": "ipython",
    "version": 3
   },
   "file_extension": ".py",
   "mimetype": "text/x-python",
   "name": "python",
   "nbconvert_exporter": "python",
   "pygments_lexer": "ipython3",
   "version": "3.8.1"
  }
 },
 "nbformat": 4,
 "nbformat_minor": 2
}
